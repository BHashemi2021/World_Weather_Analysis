{
 "cells": [
  {
   "cell_type": "markdown",
   "metadata": {},
   "source": [
    "## API Practice"
   ]
  },
  {
   "cell_type": "code",
   "execution_count": 83,
   "metadata": {},
   "outputs": [],
   "source": [
    "# import dependencies\n",
    "from citipy import citipy\n",
    "import numpy as np\n",
    "import pandas as pd\n",
    "import matplotlib.pyplot as plt\n",
    "import requests\n",
    "import time\n"
   ]
  },
  {
   "cell_type": "code",
   "execution_count": 84,
   "metadata": {},
   "outputs": [
    {
     "data": {
      "text/plain": [
       "'2.24.0'"
      ]
     },
     "execution_count": 84,
     "metadata": {},
     "output_type": "execute_result"
    }
   ],
   "source": [
    "import requests\n",
    "requests.__version__"
   ]
  },
  {
   "cell_type": "code",
   "execution_count": 85,
   "metadata": {},
   "outputs": [
    {
     "data": {
      "text/plain": [
       "<zip at 0x24ea89dbc80>"
      ]
     },
     "execution_count": 85,
     "metadata": {},
     "output_type": "execute_result"
    }
   ],
   "source": [
    "# In this Jupyter Notebook we will add the following lists and pack them into the zipped tuple. \n",
    "\n",
    "# Create a practice set of random latitude and longitude combinations.\n",
    "x = [25.12903645, 25.92017388, 26.62509167, -59.98969384, 37.30571269]\n",
    "y = [-67.59741259, 11.09532135, 74.84233102, -76.89176677, -61.13376282]\n",
    "coordinates = zip(x, y)\n",
    "coordinates"
   ]
  },
  {
   "cell_type": "code",
   "execution_count": 86,
   "metadata": {},
   "outputs": [
    {
     "name": "stdout",
     "output_type": "stream",
     "text": [
      "cockburn town tc\n",
      "gat ly\n",
      "parvatsar in\n",
      "punta arenas cl\n",
      "saint george bm\n"
     ]
    }
   ],
   "source": [
    "\n",
    "# Use the tuple() function to display the latitude and longitude combinations.\n",
    "for coordinate in coordinates:\n",
    "    print(citipy.nearest_city(coordinate[0], coordinate[1]).city_name,\n",
    "          citipy.nearest_city(coordinate[0], coordinate[1]).country_code)\n",
    "   \n",
    "    "
   ]
  },
  {
   "cell_type": "code",
   "execution_count": 87,
   "metadata": {},
   "outputs": [
    {
     "data": {
      "text/plain": [
       "<zip at 0x24ea89e2e80>"
      ]
     },
     "execution_count": 87,
     "metadata": {},
     "output_type": "execute_result"
    }
   ],
   "source": [
    "# In this Jupyter Notebook we will add the following lists and pack them into the zipped tuple. \n",
    "\n",
    "# Create a practice set of random latitude and longitude combinations.\n",
    "x = [25.12903645, 25.92017388, 26.62509167, -59.98969384, 37.30571269]\n",
    "y = [-67.59741259, 11.09532135, 74.84233102, -76.89176677, -61.13376282]\n",
    "coordinates = zip(x, y)\n",
    "coordinates"
   ]
  },
  {
   "cell_type": "code",
   "execution_count": 88,
   "metadata": {},
   "outputs": [
    {
     "name": "stdout",
     "output_type": "stream",
     "text": [
      "25.12903645 -67.59741259\n",
      "25.92017388 11.09532135\n",
      "26.62509167 74.84233102\n",
      "-59.98969384 -76.89176677\n",
      "37.30571269 -61.13376282\n"
     ]
    }
   ],
   "source": [
    "# Next, let's unpack our lat_lngs zip object (coordinates) into a list.\n",
    "# Use the tuple() function to display the latitude and longitude combinations.\n",
    "for coordinate in coordinates:\n",
    "    print(coordinate[0], coordinate[1])"
   ]
  },
  {
   "cell_type": "code",
   "execution_count": 89,
   "metadata": {},
   "outputs": [
    {
     "data": {
      "text/plain": [
       "580"
      ]
     },
     "execution_count": 89,
     "metadata": {},
     "output_type": "execute_result"
    }
   ],
   "source": [
    "# Range of latitudes and longitudes\n",
    "lat_range = (-90, 90)\n",
    "long_range = (-180, 180)\n",
    "# List for holding lat_lngs and cities\n",
    "lat_longs = []\n",
    "cities = []\n",
    "# Create a set of random lat and lng combinations\n",
    "lats = np.random.uniform(lat_range[0], lat_range[1], size=1500)\n",
    "longs = np.random.uniform(long_range[0], long_range[1], size=1500)\n",
    "lat_longs = zip(lats, longs)\n",
    "# Identify nearest city for each lat, lng combination\n",
    "for lat_long in lat_longs:\n",
    "   city = citipy.nearest_city(lat_long[0], lat_long[1]).city_name\n",
    "   # If the city is unique, then add it to a our cities list\n",
    "   if city not in cities:\n",
    "       cities.append(city)\n",
    "# Print the city count to confirm sufficient count\n",
    "len(cities)\n"
   ]
  },
  {
   "cell_type": "code",
   "execution_count": 90,
   "metadata": {},
   "outputs": [],
   "source": [
    "#@@@@@@@@@@@ Importing config.py @@@@@@@@@@@@@\n",
    "\n",
    "# Import the requests library.\n",
    "import requests\n",
    "\n",
    "# Import the API key.\n",
    "from config import weather_api_key"
   ]
  },
  {
   "cell_type": "code",
   "execution_count": 92,
   "metadata": {},
   "outputs": [
    {
     "name": "stdout",
     "output_type": "stream",
     "text": [
      "http://api.openweathermap.org/data/2.5/weather?q=Toronto&appid=2e700bb4f63212165769b78ad9723734\n"
     ]
    }
   ],
   "source": [
    "# Starting URL for Weather Map API Call.\n",
    "#url = \"http://api.openweathermap.org/data/2.5/weather?units=Imperial&APPID=\" + weather_api_key\"\n",
    "import time\n",
    "url = \"http://api.openweathermap.org/data/2.5/weather?q=Toronto&appid=2e700bb4f63212165769b78ad9723734\"\n",
    "time.sleep(1)\n",
    "print(url)"
   ]
  },
  {
   "cell_type": "code",
   "execution_count": 93,
   "metadata": {},
   "outputs": [],
   "source": [
    "# The result after following the link above:\n",
    "# {\"coord\":{\"lon\":-79.4163,\"lat\":43.7001},\"weather\":[{\"id\":804,\"main\":\"Clouds\",\"description\":\"overcast clouds\",\"icon\":\"04d\"}],\"base\":\"stations\",\"main\":{\"temp\":290.27,\"feels_like\":290.41,\"temp_min\":287.64,\"temp_max\":293.51,\"pressure\":1012,\"humidity\":91},\"visibility\":10000,\"wind\":{\"speed\":0.45,\"deg\":207,\"gust\":1.79},\"clouds\":{\"all\":90},\"dt\":1622737399,\"sys\":{\"type\":1,\"id\":718,\"country\":\"CA\",\"sunrise\":1622713079,\"sunset\":1622768045},\"timezone\":-14400,\"id\":6167865,\"name\":\"Toronto\",\"cod\":200}"
   ]
  },
  {
   "cell_type": "code",
   "execution_count": 94,
   "metadata": {},
   "outputs": [
    {
     "name": "stdout",
     "output_type": "stream",
     "text": [
      "http://api.openweathermap.org/data/2.5/weather?units=Imperial&APPID=2e700bb4f63212165769b78ad9723734\n"
     ]
    }
   ],
   "source": [
    "# Starting URL for Weather Map API Call. \n",
    "url = \"http://api.openweathermap.org/data/2.5/weather?units=Imperial&APPID=\" + weather_api_key\n",
    "\n",
    "print(url)"
   ]
  },
  {
   "cell_type": "code",
   "execution_count": 95,
   "metadata": {},
   "outputs": [],
   "source": [
    "# {\"cod\":\"400\",\"message\":\"Nothing to geocode\"}\n"
   ]
  },
  {
   "cell_type": "code",
   "execution_count": 97,
   "metadata": {},
   "outputs": [
    {
     "name": "stdout",
     "output_type": "stream",
     "text": [
      "http://api.openweathermap.org/data/2.5/weather?units=Imperial&APPID=2e700bb4f63212165769b78ad9723734&q=Boston\n"
     ]
    }
   ],
   "source": [
    "# Create an endpoint URL for a city.\n",
    "city_url = url + \"&q=\" + \"Boston\"\n",
    "print(city_url)"
   ]
  },
  {
   "cell_type": "code",
   "execution_count": 98,
   "metadata": {},
   "outputs": [],
   "source": [
    "# {\"coord\":{\"lon\":-71.0598,\"lat\":42.3584},\"weather\":[{\"id\":804,\"main\":\"Clouds\",\"description\":\"overcast clouds\",\"icon\":\"04d\"}],\"base\":\"stations\",\"main\":{\"temp\":70.84,\"feels_like\":71.06,\"temp_min\":63.95,\"temp_max\":76.62,\"pressure\":1018,\"humidity\":73},\"visibility\":10000,\"wind\":{\"speed\":8.01,\"deg\":229,\"gust\":14},\"clouds\":{\"all\":90},\"dt\":1622740160,\"sys\":{\"type\":2,\"id\":2009921,\"country\":\"US\",\"sunrise\":1622711353,\"sunset\":1622765760},\"timezone\":-14400,\"id\":4930956,\"name\":\"Boston\",\"cod\":200}"
   ]
  },
  {
   "cell_type": "code",
   "execution_count": 99,
   "metadata": {},
   "outputs": [
    {
     "ename": "SyntaxError",
     "evalue": "unmatched ')' (<ipython-input-99-e66fccc44949>, line 2)",
     "output_type": "error",
     "traceback": [
      "\u001b[1;36m  File \u001b[1;32m\"<ipython-input-99-e66fccc44949>\"\u001b[1;36m, line \u001b[1;32m2\u001b[0m\n\u001b[1;33m    ) the code looked like this:\u001b[0m\n\u001b[1;37m    ^\u001b[0m\n\u001b[1;31mSyntaxError\u001b[0m\u001b[1;31m:\u001b[0m unmatched ')'\n"
     ]
    }
   ],
   "source": [
    "# After adding the Jason view extension to Chrome browser (from https://chrome.google.com/webstore/detail/jsonview/chklaanhfefbnpoihckbnefhakgolnmc\n",
    ") the code looked like this:\n",
    "    \n",
    "    {\n",
    "coord: {\n",
    "lon: -71.0598,\n",
    "lat: 42.3584\n",
    "},\n",
    "weather: [\n",
    "{\n",
    "id: 804,\n",
    "main: \"Clouds\",\n",
    "description: \"overcast clouds\",\n",
    "icon: \"04d\"\n",
    "}\n",
    "],\n",
    "base: \"stations\",\n",
    "main: {\n",
    "temp: 70.84,\n",
    "feels_like: 71.06,\n",
    "temp_min: 63.95,\n",
    "temp_max: 76.62,\n",
    "pressure: 1018,\n",
    "humidity: 73\n",
    "},\n",
    "visibility: 10000,\n",
    "wind: {\n",
    "speed: 8.01,\n",
    "deg: 229,\n",
    "gust: 14\n",
    "},\n",
    "clouds: {\n",
    "all: 90\n",
    "},\n",
    "dt: 1622740160,\n",
    "sys: {\n",
    "type: 2,\n",
    "id: 2009921,\n",
    "country: \"US\",\n",
    "sunrise: 1622711353,\n",
    "sunset: 1622765760\n",
    "},\n",
    "timezone: -14400,\n",
    "id: 4930956,\n",
    "name: \"Boston\",\n",
    "cod: 200\n",
    "}"
   ]
  },
  {
   "cell_type": "code",
   "execution_count": 100,
   "metadata": {},
   "outputs": [
    {
     "data": {
      "text/plain": [
       "<Response [200]>"
      ]
     },
     "execution_count": 100,
     "metadata": {},
     "output_type": "execute_result"
    }
   ],
   "source": [
    "# Make a 'Get' request for the city weather.\n",
    "city_weather = requests.get(city_url)\n",
    "city_weather"
   ]
  },
  {
   "cell_type": "code",
   "execution_count": 101,
   "metadata": {},
   "outputs": [
    {
     "data": {
      "text/plain": [
       "<Response [404]>"
      ]
     },
     "execution_count": 101,
     "metadata": {},
     "output_type": "execute_result"
    }
   ],
   "source": [
    "# Create an endpoint URL for a city.\n",
    "city_url = url + \"&q=\" + \"Bston\"\n",
    "city_weather = requests.get(city_url)\n",
    "city_weather"
   ]
  },
  {
   "cell_type": "code",
   "execution_count": 102,
   "metadata": {},
   "outputs": [
    {
     "data": {
      "text/plain": [
       "'{\"cod\":\"404\",\"message\":\"city not found\"}'"
      ]
     },
     "execution_count": 102,
     "metadata": {},
     "output_type": "execute_result"
    }
   ],
   "source": [
    "# Get the text of the 'Get' request.\n",
    "city_weather.text"
   ]
  },
  {
   "cell_type": "code",
   "execution_count": 103,
   "metadata": {},
   "outputs": [
    {
     "data": {
      "text/plain": [
       "'{\"coord\":{\"lon\":-71.0598,\"lat\":42.3584},\"weather\":[{\"id\":804,\"main\":\"Clouds\",\"description\":\"overcast clouds\",\"icon\":\"04n\"}],\"base\":\"stations\",\"main\":{\"temp\":69.73,\"feels_like\":70.34,\"temp_min\":64.85,\"temp_max\":72.77,\"pressure\":1014,\"humidity\":84},\"visibility\":10000,\"wind\":{\"speed\":4,\"deg\":297,\"gust\":11.99},\"clouds\":{\"all\":90},\"dt\":1622765949,\"sys\":{\"type\":2,\"id\":2013408,\"country\":\"US\",\"sunrise\":1622711353,\"sunset\":1622765760},\"timezone\":-14400,\"id\":4930956,\"name\":\"Boston\",\"cod\":200}'"
      ]
     },
     "execution_count": 103,
     "metadata": {},
     "output_type": "execute_result"
    }
   ],
   "source": [
    "# Create an endpoint URL for a city.\n",
    "city_url = url + \"&q=\" + \"Boston\"\n",
    "city_weather = requests.get(city_url)\n",
    "#city_weather\n",
    "\n",
    "# Get the text of the 'Get' request.\n",
    "city_weather.text"
   ]
  },
  {
   "cell_type": "code",
   "execution_count": 104,
   "metadata": {},
   "outputs": [
    {
     "data": {
      "text/plain": [
       "{'coord': {'lon': -71.0598, 'lat': 42.3584},\n",
       " 'weather': [{'id': 804,\n",
       "   'main': 'Clouds',\n",
       "   'description': 'overcast clouds',\n",
       "   'icon': '04n'}],\n",
       " 'base': 'stations',\n",
       " 'main': {'temp': 69.73,\n",
       "  'feels_like': 70.34,\n",
       "  'temp_min': 64.85,\n",
       "  'temp_max': 72.77,\n",
       "  'pressure': 1014,\n",
       "  'humidity': 84},\n",
       " 'visibility': 10000,\n",
       " 'wind': {'speed': 4, 'deg': 297, 'gust': 11.99},\n",
       " 'clouds': {'all': 90},\n",
       " 'dt': 1622765949,\n",
       " 'sys': {'type': 2,\n",
       "  'id': 2013408,\n",
       "  'country': 'US',\n",
       "  'sunrise': 1622711353,\n",
       "  'sunset': 1622765760},\n",
       " 'timezone': -14400,\n",
       " 'id': 4930956,\n",
       " 'name': 'Boston',\n",
       " 'cod': 200}"
      ]
     },
     "execution_count": 104,
     "metadata": {},
     "output_type": "execute_result"
    }
   ],
   "source": [
    "# Get the JSON text of the 'Get' request.\n",
    "city_weather.json()"
   ]
  },
  {
   "cell_type": "code",
   "execution_count": 105,
   "metadata": {},
   "outputs": [
    {
     "name": "stdout",
     "output_type": "stream",
     "text": [
      "City Weather found.\n"
     ]
    }
   ],
   "source": [
    "# Create an endpoint URL for a city.\n",
    "city_url = url + \"&q=\" + \"Boston\"\n",
    "city_weather = requests.get(city_url)\n",
    "if city_weather.status_code == 200:\n",
    "    print(f\"City Weather found.\")\n",
    "else:\n",
    "    print(f\"City weather not found.\")"
   ]
  },
  {
   "cell_type": "code",
   "execution_count": 106,
   "metadata": {},
   "outputs": [
    {
     "name": "stdout",
     "output_type": "stream",
     "text": [
      "City Weather found.\n"
     ]
    }
   ],
   "source": [
    "# Create an endpoint URL for a city.\n",
    "city_url = url + \"&q=\" + \"Bston\"\n",
    "city_weather = requests.get(city_url)\n",
    "if city_weather.json():\n",
    "    print(f\"City Weather found.\")\n",
    "else:\n",
    "    print(f\"City weather not found.\")"
   ]
  },
  {
   "cell_type": "code",
   "execution_count": 107,
   "metadata": {},
   "outputs": [
    {
     "name": "stdout",
     "output_type": "stream",
     "text": [
      "http://api.openweathermap.org/data/2.5/weather?units=Imperial&APPID=2e700bb4f63212165769b78ad9723734&q=Bston\n"
     ]
    }
   ],
   "source": [
    "print(city_url)"
   ]
  },
  {
   "cell_type": "code",
   "execution_count": 108,
   "metadata": {},
   "outputs": [
    {
     "ename": "SyntaxError",
     "evalue": "invalid syntax (<ipython-input-108-4204752c0ae3>, line 2)",
     "output_type": "error",
     "traceback": [
      "\u001b[1;36m  File \u001b[1;32m\"<ipython-input-108-4204752c0ae3>\"\u001b[1;36m, line \u001b[1;32m2\u001b[0m\n\u001b[1;33m    cod: \"404\",\u001b[0m\n\u001b[1;37m              ^\u001b[0m\n\u001b[1;31mSyntaxError\u001b[0m\u001b[1;31m:\u001b[0m invalid syntax\n"
     ]
    }
   ],
   "source": [
    "# {\n",
    "cod: \"404\",\n",
    "message: \"city not found\"\n",
    "}"
   ]
  },
  {
   "cell_type": "code",
   "execution_count": 109,
   "metadata": {},
   "outputs": [
    {
     "data": {
      "text/plain": [
       "{'coord': {'lon': -71.0598, 'lat': 42.3584},\n",
       " 'weather': [{'id': 804,\n",
       "   'main': 'Clouds',\n",
       "   'description': 'overcast clouds',\n",
       "   'icon': '04n'}],\n",
       " 'base': 'stations',\n",
       " 'main': {'temp': 69.73,\n",
       "  'feels_like': 70.34,\n",
       "  'temp_min': 64.85,\n",
       "  'temp_max': 72.77,\n",
       "  'pressure': 1014,\n",
       "  'humidity': 84},\n",
       " 'visibility': 10000,\n",
       " 'wind': {'speed': 4, 'deg': 297, 'gust': 11.99},\n",
       " 'clouds': {'all': 90},\n",
       " 'dt': 1622765949,\n",
       " 'sys': {'type': 2,\n",
       "  'id': 2013408,\n",
       "  'country': 'US',\n",
       "  'sunrise': 1622711353,\n",
       "  'sunset': 1622765760},\n",
       " 'timezone': -14400,\n",
       " 'id': 4930956,\n",
       " 'name': 'Boston',\n",
       " 'cod': 200}"
      ]
     },
     "execution_count": 109,
     "metadata": {},
     "output_type": "execute_result"
    }
   ],
   "source": [
    "# Create an endpoint URL for a city.\n",
    "city_url = url + \"&q=\" + \"Boston\"\n",
    "city_weather = requests.get(city_url)\n",
    "city_weather.json()"
   ]
  },
  {
   "cell_type": "code",
   "execution_count": 110,
   "metadata": {},
   "outputs": [],
   "source": [
    "# Get the JSON data.\n",
    "boston_data = city_weather.json()"
   ]
  },
  {
   "cell_type": "code",
   "execution_count": 111,
   "metadata": {},
   "outputs": [
    {
     "data": {
      "text/plain": [
       "{'type': 2,\n",
       " 'id': 2013408,\n",
       " 'country': 'US',\n",
       " 'sunrise': 1622711353,\n",
       " 'sunset': 1622765760}"
      ]
     },
     "execution_count": 111,
     "metadata": {},
     "output_type": "execute_result"
    }
   ],
   "source": [
    "boston_data[\"sys\"]"
   ]
  },
  {
   "cell_type": "code",
   "execution_count": 112,
   "metadata": {},
   "outputs": [
    {
     "data": {
      "text/plain": [
       "1622765949"
      ]
     },
     "execution_count": 112,
     "metadata": {},
     "output_type": "execute_result"
    }
   ],
   "source": [
    "boston_data[\"dt\"]"
   ]
  },
  {
   "cell_type": "code",
   "execution_count": 113,
   "metadata": {},
   "outputs": [
    {
     "data": {
      "text/plain": [
       "42.3584"
      ]
     },
     "execution_count": 113,
     "metadata": {},
     "output_type": "execute_result"
    }
   ],
   "source": [
    "boston_data[\"coord\"][\"lat\"]"
   ]
  },
  {
   "cell_type": "code",
   "execution_count": 114,
   "metadata": {},
   "outputs": [
    {
     "data": {
      "text/plain": [
       "72.77"
      ]
     },
     "execution_count": 114,
     "metadata": {},
     "output_type": "execute_result"
    }
   ],
   "source": [
    "boston_data[\"main\"][\"temp_max\"]"
   ]
  },
  {
   "cell_type": "code",
   "execution_count": 115,
   "metadata": {},
   "outputs": [
    {
     "name": "stdout",
     "output_type": "stream",
     "text": [
      "42.3584 -71.0598 72.77 84 90 4\n"
     ]
    }
   ],
   "source": [
    "lat = boston_data[\"coord\"][\"lat\"]\n",
    "lng = boston_data[\"coord\"][\"lon\"]\n",
    "max_temp = boston_data[\"main\"][\"temp_max\"]\n",
    "humidity = boston_data[\"main\"][\"humidity\"]\n",
    "clouds = boston_data[\"clouds\"][\"all\"]\n",
    "wind = boston_data[\"wind\"][\"speed\"]\n",
    "print(lat, lng, max_temp, humidity, clouds, wind)"
   ]
  },
  {
   "cell_type": "code",
   "execution_count": 116,
   "metadata": {},
   "outputs": [
    {
     "data": {
      "text/plain": [
       "datetime.datetime(2021, 6, 4, 0, 19, 9)"
      ]
     },
     "execution_count": 116,
     "metadata": {},
     "output_type": "execute_result"
    }
   ],
   "source": [
    "# Import the datetime module from the datetime library.\n",
    "from datetime import datetime\n",
    "# Get the date from the JSON file.\n",
    "date = boston_data[\"dt\"]\n",
    "# Convert the UTC date to a date format with year, month, day, hours, minutes, and seconds.\n",
    "datetime.utcfromtimestamp(date)"
   ]
  },
  {
   "cell_type": "code",
   "execution_count": 117,
   "metadata": {},
   "outputs": [
    {
     "data": {
      "text/plain": [
       "'2021-06-04 00:19:09'"
      ]
     },
     "execution_count": 117,
     "metadata": {},
     "output_type": "execute_result"
    }
   ],
   "source": [
    "# Import the datetime module from the datetime library.\n",
    "from datetime import datetime\n",
    "# Get the date from the JSON file.\n",
    "date = boston_data[\"dt\"]\n",
    "# Convert the UTC date to a date format with year, month, day, hours, minutes, and seconds.\n",
    "datetime.utcfromtimestamp(date).strftime('%Y-%m-%d %H:%M:%S')\n"
   ]
  },
  {
   "cell_type": "code",
   "execution_count": null,
   "metadata": {},
   "outputs": [
    {
     "name": "stdout",
     "output_type": "stream",
     "text": [
      "Beginning Data Retrieval     \n",
      "-----------------------------\n",
      "Processing Record 1 of Set 1 | bairiki\n",
      "Processing Record 2 of Set 1 | taolanaro\n",
      "City not found. Skipping...\n",
      "Processing Record 3 of Set 1 | vardo\n",
      "Processing Record 4 of Set 1 | saint george\n",
      "Processing Record 5 of Set 1 | port alfred\n",
      "Processing Record 6 of Set 1 | illoqqortoormiut\n",
      "City not found. Skipping...\n",
      "Processing Record 7 of Set 1 | maragogi\n",
      "Processing Record 8 of Set 1 | seoul\n",
      "Processing Record 9 of Set 1 | dikson\n",
      "Processing Record 10 of Set 1 | tasiilaq\n",
      "Processing Record 11 of Set 1 | qaanaaq\n",
      "Processing Record 12 of Set 1 | kallithea\n",
      "Processing Record 13 of Set 1 | hobart\n",
      "Processing Record 14 of Set 1 | lebu\n",
      "Processing Record 15 of Set 1 | ushuaia\n",
      "Processing Record 16 of Set 1 | mahebourg\n",
      "Processing Record 17 of Set 1 | bethel\n",
      "Processing Record 18 of Set 1 | nabire\n",
      "Processing Record 19 of Set 1 | vallenar\n",
      "Processing Record 20 of Set 1 | albany\n",
      "Processing Record 21 of Set 1 | cidreira\n",
      "Processing Record 22 of Set 1 | khatanga\n",
      "Processing Record 23 of Set 1 | sarmakovo\n",
      "Processing Record 24 of Set 1 | busselton\n",
      "Processing Record 25 of Set 1 | tuktoyaktuk\n",
      "Processing Record 26 of Set 1 | torbay\n",
      "Processing Record 27 of Set 1 | attawapiskat\n",
      "City not found. Skipping...\n",
      "Processing Record 28 of Set 1 | rikitea\n",
      "Processing Record 29 of Set 1 | esperance\n",
      "Processing Record 30 of Set 1 | mayumba\n",
      "Processing Record 31 of Set 1 | bonanza\n",
      "Processing Record 32 of Set 1 | butaritari\n",
      "Processing Record 33 of Set 1 | sao felix do xingu\n",
      "Processing Record 34 of Set 1 | nikolskoye\n",
      "Processing Record 35 of Set 1 | utiroa\n",
      "City not found. Skipping...\n",
      "Processing Record 36 of Set 1 | yatou\n",
      "Processing Record 37 of Set 1 | severo-kurilsk\n",
      "Processing Record 38 of Set 1 | sandovo\n",
      "Processing Record 39 of Set 1 | itarema\n",
      "Processing Record 40 of Set 1 | lavrentiya\n",
      "Processing Record 41 of Set 1 | kem\n",
      "Processing Record 42 of Set 1 | misratah\n",
      "Processing Record 43 of Set 1 | san patricio\n",
      "Processing Record 44 of Set 1 | vaini\n",
      "Processing Record 45 of Set 1 | saint-philippe\n",
      "Processing Record 46 of Set 1 | simga\n",
      "Processing Record 47 of Set 1 | qianan\n",
      "Processing Record 48 of Set 1 | mataura\n",
      "Processing Record 49 of Set 1 | punta arenas\n",
      "Processing Record 50 of Set 1 | hermanus\n",
      "Processing Record 1 of Set 2 | bluff\n",
      "Processing Record 2 of Set 2 | katsuura\n",
      "Processing Record 3 of Set 2 | sorong\n",
      "Processing Record 4 of Set 2 | hovd\n",
      "Processing Record 5 of Set 2 | amderma\n",
      "City not found. Skipping...\n",
      "Processing Record 6 of Set 2 | te anau\n",
      "Processing Record 7 of Set 2 | grand river south east\n",
      "City not found. Skipping...\n",
      "Processing Record 8 of Set 2 | babanusah\n",
      "City not found. Skipping...\n",
      "Processing Record 9 of Set 2 | tambura\n",
      "Processing Record 10 of Set 2 | tinskoy\n",
      "Processing Record 11 of Set 2 | iquitos\n",
      "Processing Record 12 of Set 2 | cape town\n",
      "Processing Record 13 of Set 2 | georgetown\n",
      "Processing Record 14 of Set 2 | fevralsk\n",
      "City not found. Skipping...\n",
      "Processing Record 15 of Set 2 | canete\n",
      "Processing Record 16 of Set 2 | puerto ayora\n",
      "Processing Record 17 of Set 2 | kurumkan\n",
      "Processing Record 18 of Set 2 | codrington\n",
      "Processing Record 19 of Set 2 | upernavik\n",
      "Processing Record 20 of Set 2 | longyearbyen\n",
      "Processing Record 21 of Set 2 | avarua\n",
      "Processing Record 22 of Set 2 | yurginskoye\n",
      "Processing Record 23 of Set 2 | hilo\n",
      "Processing Record 24 of Set 2 | yerbogachen\n",
      "Processing Record 25 of Set 2 | bubaque\n",
      "Processing Record 26 of Set 2 | east london\n",
      "Processing Record 27 of Set 2 | tchibanga\n",
      "Processing Record 28 of Set 2 | palmer\n",
      "Processing Record 29 of Set 2 | barrow\n",
      "Processing Record 30 of Set 2 | seymchan\n",
      "Processing Record 31 of Set 2 | carnarvon\n",
      "Processing Record 32 of Set 2 | mosquera\n",
      "Processing Record 33 of Set 2 | gloversville\n",
      "Processing Record 34 of Set 2 | bredasdorp\n",
      "Processing Record 35 of Set 2 | luderitz\n",
      "Processing Record 36 of Set 2 | vila velha\n",
      "Processing Record 37 of Set 2 | paralimni\n",
      "Processing Record 38 of Set 2 | lompoc\n",
      "Processing Record 39 of Set 2 | hoquiam\n",
      "Processing Record 40 of Set 2 | umzimvubu\n",
      "City not found. Skipping...\n",
      "Processing Record 41 of Set 2 | meadow lake\n",
      "Processing Record 42 of Set 2 | bourail\n",
      "Processing Record 43 of Set 2 | bengkulu\n",
      "Processing Record 44 of Set 2 | komsomolskiy\n",
      "Processing Record 45 of Set 2 | cadillac\n",
      "Processing Record 46 of Set 2 | ponta do sol\n",
      "Processing Record 47 of Set 2 | nizhneyansk\n",
      "City not found. Skipping...\n",
      "Processing Record 48 of Set 2 | aurora\n",
      "Processing Record 49 of Set 2 | hailar\n",
      "Processing Record 50 of Set 2 | arraial do cabo\n",
      "Processing Record 1 of Set 3 | khandyga\n",
      "Processing Record 2 of Set 3 | kapaa\n",
      "Processing Record 3 of Set 3 | tiksi\n",
      "Processing Record 4 of Set 3 | saskylakh\n",
      "Processing Record 5 of Set 3 | ribeira grande\n",
      "Processing Record 6 of Set 3 | kyrksaeterora\n",
      "Processing Record 7 of Set 3 | el wasta\n",
      "City not found. Skipping...\n",
      "Processing Record 8 of Set 3 | lagoa\n",
      "Processing Record 9 of Set 3 | mar del plata\n",
      "Processing Record 10 of Set 3 | high level\n",
      "Processing Record 11 of Set 3 | barentsburg\n",
      "City not found. Skipping...\n",
      "Processing Record 12 of Set 3 | forio\n",
      "Processing Record 13 of Set 3 | muros\n",
      "Processing Record 14 of Set 3 | sentyabrskiy\n",
      "City not found. Skipping...\n",
      "Processing Record 15 of Set 3 | wahran\n",
      "City not found. Skipping...\n",
      "Processing Record 16 of Set 3 | atuona\n",
      "Processing Record 17 of Set 3 | pangnirtung\n",
      "Processing Record 18 of Set 3 | ogaminana\n",
      "Processing Record 19 of Set 3 | bongor\n",
      "Processing Record 20 of Set 3 | mitsamiouli\n",
      "Processing Record 21 of Set 3 | tonstad\n",
      "Processing Record 22 of Set 3 | kaitangata\n",
      "Processing Record 23 of Set 3 | rocha\n",
      "Processing Record 24 of Set 3 | oranjemund\n",
      "Processing Record 25 of Set 3 | riyadh\n",
      "Processing Record 26 of Set 3 | new norfolk\n",
      "Processing Record 27 of Set 3 | taltal\n",
      "Processing Record 28 of Set 3 | yellowknife\n",
      "Processing Record 29 of Set 3 | maralik\n",
      "Processing Record 30 of Set 3 | manuk mangkaw\n",
      "Processing Record 31 of Set 3 | alotau\n",
      "City not found. Skipping...\n",
      "Processing Record 32 of Set 3 | neuquen\n",
      "Processing Record 33 of Set 3 | thompson\n",
      "Processing Record 34 of Set 3 | tanete\n",
      "Processing Record 35 of Set 3 | chimore\n",
      "Processing Record 36 of Set 3 | cabo san lucas\n",
      "Processing Record 37 of Set 3 | muriti\n",
      "Processing Record 38 of Set 3 | clyde river\n",
      "Processing Record 39 of Set 3 | marcona\n",
      "City not found. Skipping...\n",
      "Processing Record 40 of Set 3 | krutinka\n",
      "Processing Record 41 of Set 3 | port lincoln\n",
      "Processing Record 42 of Set 3 | columbus\n",
      "Processing Record 43 of Set 3 | praya\n",
      "Processing Record 44 of Set 3 | namibe\n",
      "Processing Record 45 of Set 3 | matagami\n",
      "Processing Record 46 of Set 3 | vaitupu\n",
      "City not found. Skipping...\n",
      "Processing Record 47 of Set 3 | tuatapere\n",
      "Processing Record 48 of Set 3 | srednekolymsk\n",
      "Processing Record 49 of Set 3 | afmadu\n",
      "City not found. Skipping...\n",
      "Processing Record 50 of Set 3 | tessalit\n",
      "Processing Record 1 of Set 4 | pevek\n",
      "Processing Record 2 of Set 4 | belushya guba\n",
      "City not found. Skipping...\n",
      "Processing Record 3 of Set 4 | pisco\n",
      "Processing Record 4 of Set 4 | amahai\n",
      "Processing Record 5 of Set 4 | dingle\n",
      "Processing Record 6 of Set 4 | san buenaventura\n",
      "Processing Record 7 of Set 4 | teya\n",
      "Processing Record 8 of Set 4 | yulara\n",
      "Processing Record 9 of Set 4 | slave lake\n",
      "Processing Record 10 of Set 4 | souillac\n",
      "Processing Record 11 of Set 4 | qui nhon\n",
      "Processing Record 12 of Set 4 | vanavara\n",
      "Processing Record 13 of Set 4 | shelburne\n",
      "Processing Record 14 of Set 4 | dubovskoye\n",
      "Processing Record 15 of Set 4 | chuy\n",
      "Processing Record 16 of Set 4 | korem\n",
      "Processing Record 17 of Set 4 | cherskiy\n",
      "Processing Record 18 of Set 4 | ilulissat\n",
      "Processing Record 19 of Set 4 | castro\n",
      "Processing Record 20 of Set 4 | wamba\n",
      "Processing Record 21 of Set 4 | umm lajj\n",
      "Processing Record 22 of Set 4 | el alto\n",
      "Processing Record 23 of Set 4 | muisne\n",
      "Processing Record 24 of Set 4 | tiarei\n",
      "Processing Record 25 of Set 4 | chapais\n",
      "Processing Record 26 of Set 4 | manavalakurichi\n",
      "Processing Record 27 of Set 4 | port-gentil\n",
      "Processing Record 28 of Set 4 | dawson creek\n",
      "Processing Record 29 of Set 4 | kushnarenkovo\n",
      "Processing Record 30 of Set 4 | fare\n",
      "Processing Record 31 of Set 4 | santa maria\n",
      "Processing Record 32 of Set 4 | bartica\n",
      "Processing Record 33 of Set 4 | qaqortoq\n",
      "Processing Record 34 of Set 4 | svetlogorsk\n",
      "Processing Record 35 of Set 4 | mayo\n"
     ]
    },
    {
     "name": "stdout",
     "output_type": "stream",
     "text": [
      "Processing Record 36 of Set 4 | kuche\n",
      "City not found. Skipping...\n",
      "Processing Record 37 of Set 4 | sao raimundo nonato\n",
      "Processing Record 38 of Set 4 | mergui\n",
      "City not found. Skipping...\n",
      "Processing Record 39 of Set 4 | trenggalek\n",
      "Processing Record 40 of Set 4 | ancud\n",
      "Processing Record 41 of Set 4 | louisbourg\n",
      "City not found. Skipping...\n",
      "Processing Record 42 of Set 4 | chokurdakh\n",
      "Processing Record 43 of Set 4 | benguela\n",
      "Processing Record 44 of Set 4 | bogorodskoye\n",
      "Processing Record 45 of Set 4 | celestun\n",
      "Processing Record 46 of Set 4 | coahuayana\n",
      "Processing Record 47 of Set 4 | jamestown\n",
      "Processing Record 48 of Set 4 | maceio\n",
      "Processing Record 49 of Set 4 | elverum\n",
      "Processing Record 50 of Set 4 | marystown\n",
      "Processing Record 1 of Set 5 | kruisfontein\n",
      "Processing Record 2 of Set 5 | goundam\n",
      "Processing Record 3 of Set 5 | gat\n",
      "Processing Record 4 of Set 5 | port elizabeth\n",
      "Processing Record 5 of Set 5 | semey\n",
      "Processing Record 6 of Set 5 | isangel\n",
      "Processing Record 7 of Set 5 | tabiauea\n",
      "City not found. Skipping...\n",
      "Processing Record 8 of Set 5 | vestmannaeyjar\n",
      "Processing Record 9 of Set 5 | necochea\n",
      "Processing Record 10 of Set 5 | naze\n",
      "Processing Record 11 of Set 5 | luanda\n",
      "Processing Record 12 of Set 5 | salalah\n",
      "Processing Record 13 of Set 5 | olafsvik\n",
      "Processing Record 14 of Set 5 | yilan\n",
      "Processing Record 15 of Set 5 | prainha\n",
      "Processing Record 16 of Set 5 | marienburg\n",
      "Processing Record 17 of Set 5 | filadelfia\n",
      "Processing Record 18 of Set 5 | murray bridge\n",
      "Processing Record 19 of Set 5 | saldanha\n",
      "Processing Record 20 of Set 5 | vila\n",
      "Processing Record 21 of Set 5 | senador guiomard\n",
      "Processing Record 22 of Set 5 | oum hadjer\n",
      "Processing Record 23 of Set 5 | bambanglipuro\n",
      "Processing Record 24 of Set 5 | salta\n",
      "Processing Record 25 of Set 5 | leningradskiy\n",
      "Processing Record 26 of Set 5 | sitka\n",
      "Processing Record 27 of Set 5 | escanaba\n",
      "Processing Record 28 of Set 5 | xining\n",
      "Processing Record 29 of Set 5 | korla\n",
      "Processing Record 30 of Set 5 | casper\n",
      "Processing Record 31 of Set 5 | mehamn\n",
      "Processing Record 32 of Set 5 | svetlaya\n",
      "Processing Record 33 of Set 5 | santiago de cao\n",
      "Processing Record 34 of Set 5 | maridi\n",
      "Processing Record 35 of Set 5 | oriximina\n",
      "Processing Record 36 of Set 5 | vostok\n",
      "Processing Record 37 of Set 5 | wasilla\n",
      "Processing Record 38 of Set 5 | yenagoa\n",
      "Processing Record 39 of Set 5 | tadine\n",
      "Processing Record 40 of Set 5 | gizo\n",
      "Processing Record 41 of Set 5 | alyangula\n",
      "Processing Record 42 of Set 5 | sao filipe\n",
      "Processing Record 43 of Set 5 | saleaula\n",
      "City not found. Skipping...\n",
      "Processing Record 44 of Set 5 | san rafael\n",
      "Processing Record 45 of Set 5 | kazalinsk\n",
      "City not found. Skipping...\n",
      "Processing Record 46 of Set 5 | valparaiso\n",
      "Processing Record 47 of Set 5 | provost\n",
      "Processing Record 48 of Set 5 | abu samrah\n",
      "Processing Record 49 of Set 5 | vavoua\n",
      "Processing Record 50 of Set 5 | la quinta\n",
      "Processing Record 1 of Set 6 | naryan-mar\n",
      "Processing Record 2 of Set 6 | faya\n",
      "Processing Record 3 of Set 6 | gawler\n",
      "Processing Record 4 of Set 6 | nongan\n",
      "Processing Record 5 of Set 6 | bauchi\n",
      "Processing Record 6 of Set 6 | meulaboh\n",
      "Processing Record 7 of Set 6 | yining\n",
      "Processing Record 8 of Set 6 | avera\n",
      "Processing Record 9 of Set 6 | usinsk\n",
      "Processing Record 10 of Set 6 | nedjo\n",
      "Processing Record 11 of Set 6 | ust-kulom\n",
      "Processing Record 12 of Set 6 | quatre cocos\n",
      "Processing Record 13 of Set 6 | kiruna\n",
      "Processing Record 14 of Set 6 | ferme-neuve\n",
      "Processing Record 15 of Set 6 | kavieng\n",
      "Processing Record 16 of Set 6 | poum\n",
      "Processing Record 17 of Set 6 | tsihombe\n",
      "City not found. Skipping...\n",
      "Processing Record 18 of Set 6 | corning\n",
      "Processing Record 19 of Set 6 | los llanos de aridane\n",
      "Processing Record 20 of Set 6 | saint-marc\n",
      "Processing Record 21 of Set 6 | bukachacha\n",
      "Processing Record 22 of Set 6 | lerwick\n",
      "Processing Record 23 of Set 6 | booue\n",
      "Processing Record 24 of Set 6 | makakilo city\n",
      "Processing Record 25 of Set 6 | bambous virieux\n",
      "Processing Record 26 of Set 6 | wodonga\n",
      "Processing Record 27 of Set 6 | aketi\n",
      "Processing Record 28 of Set 6 | tete\n",
      "Processing Record 29 of Set 6 | lorengau\n",
      "Processing Record 30 of Set 6 | zhanaozen\n",
      "Processing Record 31 of Set 6 | sungairaya\n",
      "Processing Record 32 of Set 6 | ulaangom\n",
      "Processing Record 33 of Set 6 | saint-pierre\n",
      "Processing Record 34 of Set 6 | luena\n",
      "Processing Record 35 of Set 6 | la ronge\n",
      "Processing Record 36 of Set 6 | norman wells\n",
      "Processing Record 37 of Set 6 | katobu\n",
      "Processing Record 38 of Set 6 | baherden\n",
      "Processing Record 39 of Set 6 | solnechnyy\n",
      "Processing Record 40 of Set 6 | scottsburgh\n",
      "City not found. Skipping...\n",
      "Processing Record 41 of Set 6 | shalinskoye\n",
      "Processing Record 42 of Set 6 | gamba\n",
      "Processing Record 43 of Set 6 | viedma\n",
      "Processing Record 44 of Set 6 | phek\n",
      "Processing Record 45 of Set 6 | monrovia\n",
      "Processing Record 46 of Set 6 | mount gambier\n",
      "Processing Record 47 of Set 6 | nanortalik\n",
      "Processing Record 48 of Set 6 | kodiak\n",
      "Processing Record 49 of Set 6 | verkhnevilyuysk\n",
      "Processing Record 50 of Set 6 | springbok\n",
      "Processing Record 1 of Set 7 | igarape-acu\n",
      "City not found. Skipping...\n",
      "Processing Record 2 of Set 7 | bathsheba\n",
      "Processing Record 3 of Set 7 | totness\n",
      "Processing Record 4 of Set 7 | inirida\n",
      "Processing Record 5 of Set 7 | hambantota\n",
      "Processing Record 6 of Set 7 | aykhal\n",
      "Processing Record 7 of Set 7 | jatai\n",
      "Processing Record 8 of Set 7 | sofiysk\n",
      "City not found. Skipping...\n",
      "Processing Record 9 of Set 7 | iqaluit\n",
      "Processing Record 10 of Set 7 | sulina\n",
      "Processing Record 11 of Set 7 | botou\n",
      "Processing Record 12 of Set 7 | black river\n",
      "Processing Record 13 of Set 7 | kloulklubed\n",
      "Processing Record 14 of Set 7 | sioux lookout\n",
      "Processing Record 15 of Set 7 | hihifo\n",
      "City not found. Skipping...\n",
      "Processing Record 16 of Set 7 | faanui\n",
      "Processing Record 17 of Set 7 | lubumbashi\n",
      "Processing Record 18 of Set 7 | okato\n",
      "Processing Record 19 of Set 7 | airai\n",
      "Processing Record 20 of Set 7 | kalambaka\n",
      "Processing Record 21 of Set 7 | floriano\n",
      "Processing Record 22 of Set 7 | ardabil\n",
      "Processing Record 23 of Set 7 | okha\n",
      "Processing Record 24 of Set 7 | mys shmidta\n",
      "City not found. Skipping...\n",
      "Processing Record 25 of Set 7 | hithadhoo\n",
      "Processing Record 26 of Set 7 | kangaba\n",
      "Processing Record 27 of Set 7 | caravelas\n",
      "Processing Record 28 of Set 7 | galgani\n",
      "City not found. Skipping...\n",
      "Processing Record 29 of Set 7 | ndele\n",
      "Processing Record 30 of Set 7 | ismailia\n",
      "Processing Record 31 of Set 7 | jalu\n",
      "Processing Record 32 of Set 7 | vila franca do campo\n",
      "Processing Record 33 of Set 7 | kieta\n",
      "Processing Record 34 of Set 7 | hofn\n",
      "Processing Record 35 of Set 7 | samarai\n",
      "Processing Record 36 of Set 7 | mayahi\n",
      "Processing Record 37 of Set 7 | mnogovershinnyy\n",
      "Processing Record 38 of Set 7 | antofagasta\n",
      "Processing Record 39 of Set 7 | sakakah\n",
      "Processing Record 40 of Set 7 | bad hofgastein\n",
      "Processing Record 41 of Set 7 | victoria\n",
      "Processing Record 42 of Set 7 | jinxiang\n",
      "Processing Record 43 of Set 7 | deputatskiy\n",
      "Processing Record 44 of Set 7 | marzuq\n",
      "Processing Record 45 of Set 7 | klaksvik\n",
      "Processing Record 46 of Set 7 | santa luzia\n",
      "Processing Record 47 of Set 7 | plymouth\n",
      "Processing Record 48 of Set 7 | fuxin\n",
      "Processing Record 49 of Set 7 | bolshoye sorokino\n",
      "City not found. Skipping...\n",
      "Processing Record 50 of Set 7 | kiama\n",
      "Processing Record 1 of Set 8 | san vicente\n",
      "Processing Record 2 of Set 8 | cockburn town\n",
      "Processing Record 3 of Set 8 | saint-georges\n",
      "Processing Record 4 of Set 8 | anisoc\n",
      "Processing Record 5 of Set 8 | saransk\n",
      "Processing Record 6 of Set 8 | coihaique\n",
      "Processing Record 7 of Set 8 | tutoia\n",
      "Processing Record 8 of Set 8 | kralendijk\n",
      "Processing Record 9 of Set 8 | arica\n",
      "Processing Record 10 of Set 8 | qixia\n",
      "Processing Record 11 of Set 8 | puerto quijarro\n",
      "Processing Record 12 of Set 8 | palmas bellas\n",
      "Processing Record 13 of Set 8 | talnakh\n",
      "Processing Record 14 of Set 8 | lakes entrance\n",
      "Processing Record 15 of Set 8 | rossland\n",
      "Processing Record 16 of Set 8 | iringa\n",
      "Processing Record 17 of Set 8 | alugan\n",
      "Processing Record 18 of Set 8 | hami\n",
      "Processing Record 19 of Set 8 | berlevag\n",
      "Processing Record 20 of Set 8 | porto walter\n",
      "Processing Record 21 of Set 8 | sao joao da barra\n",
      "Processing Record 22 of Set 8 | rio gallegos\n",
      "Processing Record 23 of Set 8 | whitehorse\n",
      "Processing Record 24 of Set 8 | kikwit\n",
      "Processing Record 25 of Set 8 | assiniboia\n"
     ]
    },
    {
     "name": "stdout",
     "output_type": "stream",
     "text": [
      "Processing Record 26 of Set 8 | beringovskiy\n",
      "Processing Record 27 of Set 8 | geraldton\n",
      "Processing Record 28 of Set 8 | njombe\n",
      "Processing Record 29 of Set 8 | mogok\n",
      "Processing Record 30 of Set 8 | santa cruz\n",
      "Processing Record 31 of Set 8 | erenhot\n",
      "Processing Record 32 of Set 8 | santiago del estero\n",
      "Processing Record 33 of Set 8 | samokov\n",
      "Processing Record 34 of Set 8 | kununurra\n",
      "Processing Record 35 of Set 8 | tottori\n",
      "Processing Record 36 of Set 8 | finschhafen\n",
      "Processing Record 37 of Set 8 | kulevcha\n",
      "Processing Record 38 of Set 8 | saint-felicien\n",
      "Processing Record 39 of Set 8 | tawzar\n",
      "City not found. Skipping...\n",
      "Processing Record 40 of Set 8 | kalghatgi\n",
      "Processing Record 41 of Set 8 | kutum\n",
      "Processing Record 42 of Set 8 | camacha\n",
      "Processing Record 43 of Set 8 | gasa\n",
      "Processing Record 44 of Set 8 | evensk\n",
      "Processing Record 45 of Set 8 | puerto escondido\n",
      "Processing Record 46 of Set 8 | bafata\n",
      "Processing Record 47 of Set 8 | abancay\n",
      "Processing Record 48 of Set 8 | sandur\n",
      "Processing Record 49 of Set 8 | zhigansk\n",
      "Processing Record 50 of Set 8 | wuchi\n",
      "Processing Record 1 of Set 9 | beni suef\n",
      "Processing Record 2 of Set 9 | geresk\n",
      "City not found. Skipping...\n",
      "Processing Record 3 of Set 9 | gorgan\n",
      "Processing Record 4 of Set 9 | fort nelson\n",
      "Processing Record 5 of Set 9 | vao\n",
      "Processing Record 6 of Set 9 | yambio\n",
      "Processing Record 7 of Set 9 | samusu\n",
      "City not found. Skipping...\n",
      "Processing Record 8 of Set 9 | azanka\n",
      "Processing Record 9 of Set 9 | viligili\n",
      "City not found. Skipping...\n",
      "Processing Record 10 of Set 9 | kahului\n",
      "Processing Record 11 of Set 9 | rorvik\n",
      "Processing Record 12 of Set 9 | khonuu\n",
      "City not found. Skipping...\n",
      "Processing Record 13 of Set 9 | matamoros\n",
      "Processing Record 14 of Set 9 | sharya\n",
      "Processing Record 15 of Set 9 | provideniya\n",
      "Processing Record 16 of Set 9 | pandan\n",
      "Processing Record 17 of Set 9 | shache\n",
      "Processing Record 18 of Set 9 | hasaki\n",
      "Processing Record 19 of Set 9 | harwich\n",
      "Processing Record 20 of Set 9 | porto novo\n",
      "Processing Record 21 of Set 9 | meybod\n",
      "Processing Record 22 of Set 9 | charters towers\n",
      "Processing Record 23 of Set 9 | aberdeen\n",
      "Processing Record 24 of Set 9 | exeter\n",
      "Processing Record 25 of Set 9 | kudahuvadhoo\n",
      "Processing Record 26 of Set 9 | cassilandia\n",
      "Processing Record 27 of Set 9 | kolyvan\n",
      "Processing Record 28 of Set 9 | muroto\n",
      "Processing Record 29 of Set 9 | beloha\n",
      "Processing Record 30 of Set 9 | namatanai\n",
      "Processing Record 31 of Set 9 | artyom\n",
      "Processing Record 32 of Set 9 | liberal\n",
      "Processing Record 33 of Set 9 | henties bay\n",
      "Processing Record 34 of Set 9 | kambia\n",
      "Processing Record 35 of Set 9 | oslomej\n",
      "Processing Record 36 of Set 9 | eureka\n",
      "Processing Record 37 of Set 9 | ostrovnoy\n",
      "Processing Record 38 of Set 9 | nguiu\n",
      "City not found. Skipping...\n",
      "Processing Record 39 of Set 9 | saint-joseph\n",
      "Processing Record 40 of Set 9 | los andes\n",
      "Processing Record 41 of Set 9 | copiapo\n",
      "Processing Record 42 of Set 9 | takoradi\n",
      "Processing Record 43 of Set 9 | oktyabrskiy\n",
      "Processing Record 44 of Set 9 | gboko\n",
      "Processing Record 45 of Set 9 | jijiga\n",
      "Processing Record 46 of Set 9 | baruun-urt\n",
      "Processing Record 47 of Set 9 | piripiri\n",
      "Processing Record 48 of Set 9 | severo-yeniseyskiy\n",
      "Processing Record 49 of Set 9 | boa vista\n",
      "Processing Record 50 of Set 9 | zandvoort\n",
      "Processing Record 1 of Set 10 | taybad\n",
      "Processing Record 2 of Set 10 | padang\n",
      "Processing Record 3 of Set 10 | richards bay\n",
      "Processing Record 4 of Set 10 | san pedro\n",
      "Processing Record 5 of Set 10 | tuggurt\n",
      "City not found. Skipping...\n",
      "Processing Record 6 of Set 10 | powell river\n",
      "Processing Record 7 of Set 10 | margate\n",
      "Processing Record 8 of Set 10 | umm kaddadah\n",
      "Processing Record 9 of Set 10 | ijaki\n",
      "City not found. Skipping...\n",
      "Processing Record 10 of Set 10 | narsaq\n",
      "Processing Record 11 of Set 10 | aswan\n",
      "Processing Record 12 of Set 10 | te karaka\n"
     ]
    }
   ],
   "source": [
    "################### FINAL MODULE CODES ################\n",
    "# Create an empty list to hold the weather data.\n",
    "city_data = []\n",
    "# Print the beginning of the logging.\n",
    "print(\"Beginning Data Retrieval     \")\n",
    "print(\"-----------------------------\")\n",
    "# Create counters.\n",
    "record_count = 1\n",
    "set_count = 1\n",
    "# Loop through all the cities in the list.\n",
    "for i, city in enumerate(cities):\n",
    "    # Group cities in sets of 50 for logging purposes.\n",
    "    if (i % 50 == 0 and i >= 50):\n",
    "        set_count += 1\n",
    "        record_count = 1\n",
    "    # Create endpoint URL with each city.\n",
    "    city_url = url + \"&q=\" + city.replace(\" \",\"+\")\n",
    "    # Log the URL, record, and set numbers and the city.\n",
    "    print(f\"Processing Record {record_count} of Set {set_count} | {city}\")\n",
    "    # Add 1 to the record count.\n",
    "    record_count += 1\n",
    "    # Run an API request for each of the cities.\n",
    "    try:\n",
    "        # Parse the JSON and retrieve data.\n",
    "        city_weather = requests.get(city_url).json()\n",
    "        # Parse out the needed data.\n",
    "        city_lat = city_weather[\"coord\"][\"lat\"]\n",
    "        city_lng = city_weather[\"coord\"][\"lon\"]\n",
    "        city_max_temp = city_weather[\"main\"][\"temp_max\"]\n",
    "        city_humidity = city_weather[\"main\"][\"humidity\"]\n",
    "        city_clouds = city_weather[\"clouds\"][\"all\"]\n",
    "        city_wind = city_weather[\"wind\"][\"speed\"]\n",
    "        city_country = city_weather[\"sys\"][\"country\"]\n",
    "        city_weather_description = city_weather[\"weather\"][0][\"description\"]\n",
    "        # Convert the date to ISO standard.\n",
    "        #city_date = datetime.utcfromtimestamp(city_weather[\"dt\"]).strftime('%Y-%m-%d %H:%M:%S')\n",
    "        # Append the city information into city_data list.\n",
    "        city_data.append({\"City\": city.title(),\n",
    "                          \"Country\": city_country,\n",
    "                          \"Lat\": city_lat,\n",
    "                          \"Lng\": city_lng,\n",
    "                          \"Max Temp\": city_max_temp,\n",
    "                          \"Humidity\": city_humidity,\n",
    "                          \"Cloudiness\": city_clouds,\n",
    "                          \"Wind Speed\": city_wind,\n",
    "                          \"Current Description\": city_weather_description})\n",
    "# If an error is experienced, skip the city.\n",
    "    except:\n",
    "        print(\"City not found. Skipping...\")\n",
    "        pass\n",
    "    # important so your API doesn't get blocked\n",
    "    time.sleep(1)\n",
    "# Indicate that Data Loading is complete.\n",
    "print(\"-----------------------------\")\n",
    "print(\"Data Retrieval Complete      \")\n",
    "print(\"-----------------------------\")"
   ]
  },
  {
   "cell_type": "code",
   "execution_count": null,
   "metadata": {},
   "outputs": [],
   "source": []
  }
 ],
 "metadata": {
  "kernelspec": {
   "display_name": "PythonData",
   "language": "python",
   "name": "pythondata"
  },
  "language_info": {
   "codemirror_mode": {
    "name": "ipython",
    "version": 3
   },
   "file_extension": ".py",
   "mimetype": "text/x-python",
   "name": "python",
   "nbconvert_exporter": "python",
   "pygments_lexer": "ipython3",
   "version": "3.8.5"
  }
 },
 "nbformat": 4,
 "nbformat_minor": 4
}
